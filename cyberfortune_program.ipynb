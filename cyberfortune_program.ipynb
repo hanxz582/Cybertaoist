{
 "cells": [
  {
   "cell_type": "code",
   "execution_count": null,
   "id": "5c11504a-2694-45ef-aa3f-0afbe2d883d7",
   "metadata": {},
   "outputs": [],
   "source": []
  },
  {
   "cell_type": "code",
   "execution_count": 2,
   "id": "fe7b09b4-a841-40a0-a796-2efbb1531abf",
   "metadata": {
    "execution": {
     "iopub.execute_input": "2025-05-29T03:34:56.182993Z",
     "iopub.status.busy": "2025-05-29T03:34:56.181991Z",
     "iopub.status.idle": "2025-05-29T03:35:05.951702Z",
     "shell.execute_reply": "2025-05-29T03:35:05.950670Z",
     "shell.execute_reply.started": "2025-05-29T03:34:56.182993Z"
    }
   },
   "outputs": [
    {
     "name": "stdout",
     "output_type": "stream",
     "text": [
      "开始后一定要想着自己要问什么\n"
     ]
    },
    {
     "name": "stdin",
     "output_type": "stream",
     "text": [
      "按回车键开始算命 \n"
     ]
    },
    {
     "name": "stdout",
     "output_type": "stream",
     "text": [
      "本卦：['阳爻', '阳爻', '老阳', '老阳', '阳爻', '阴爻']\n",
      "变卦：['阳爻', '阳爻', '少阴', '少阴', '阳爻', '阴爻']\n"
     ]
    },
    {
     "data": {
      "image/png": "[encoded data removed]",
      "text/plain": [
       "<Figure size 1000x600 with 2 Axes>"
      ]
     },
     "metadata": {},
     "output_type": "display_data"
    },
    {
     "name": "stdout",
     "output_type": "stream",
     "text": [
      "解卦直接截图或复制问AI\n"
     ]
    }
   ],
   "source": [
    "import random\n",
    "from collections import Counter\n",
    "import matplotlib.pyplot as plt\n",
    "from matplotlib.patches import Rectangle\n",
    "\n",
    "#WDNMD第一次测试的时候出来6个阴爻我还以为我程序出了啥毛病，想一下啥毛病没有哇，再试一遍原来是真全是阴爻\n",
    "#对不起确实是我错了，我开始if x[0][0] == 0:写的if x == 0:，阳爻全变阴爻了\n",
    "\n",
    "print(\"开始后一定要想着自己要问什么\")\n",
    "input(\"按回车键开始算命\")\n",
    "bengua = []\n",
    "coin = []\n",
    "for _ in range(6):\n",
    "    for _ in range(3):\n",
    "        random_num = random.randint(0, 1)\n",
    "        coin.append(random_num)\n",
    "    if coin == [0,0,0]:\n",
    "        bengua.append(\"老阴\") \n",
    "    elif coin == [1,1,1]:\n",
    "        bengua.append(\"老阳\")\n",
    "    else:\n",
    "        x = Counter(coin).most_common(1)\n",
    "        if x[0][0] == 0:\n",
    "            bengua.append(\"阳爻\")\n",
    "        else:\n",
    "            bengua.append(\"阴爻\")\n",
    "    coin = []\n",
    "print(f\"本卦：{bengua}\")\n",
    "biangua = []\n",
    "for x in bengua:\n",
    "    if x == \"老阴\":\n",
    "        biangua.append(\"少阳\")\n",
    "    elif x == \"老阳\":\n",
    "        biangua.append(\"少阴\")\n",
    "    else:\n",
    "        biangua.append(x)\n",
    "print(f\"变卦：{biangua}\")\n",
    "\n",
    "\n",
    "#生成图\n",
    "plt.rcParams[\"font.family\"] = [\"SimHei\", \"WenQuanYi Micro Hei\", \"Heiti TC\"]\n",
    "plt.rcParams['axes.unicode_minus'] = False\n",
    "\n",
    "yao_types = {\n",
    "    '阴爻': {'color': '#1166bb', 'style': 'broken'},\n",
    "    '少阴': {'color': '#1155AA', 'style': 'broken'},\n",
    "    '少阳': {'color': '#CCAA44', 'style': 'solid'},\n",
    "    '老阴': {'color': '#113399', 'style': 'broken'},\n",
    "    '老阳': {'color': '#BB8822', 'style': 'solid'},\n",
    "    '阳爻': {'color': '#DDAA00', 'style': 'solid'}\n",
    "}\n",
    "\n",
    "fig, (ax1, ax2) = plt.subplots(1, 2, figsize=(10, 6))\n",
    "for ax in [ax1, ax2]:\n",
    "    ax.set_xlim(0, 1)\n",
    "    ax.set_ylim(0, 1)\n",
    "    ax.axis('off')\n",
    "\n",
    "y_step = 0.8 / 6\n",
    "start_y = 0.1\n",
    "\n",
    "for i, yao in enumerate(bengua):\n",
    "    y = start_y + i * y_step\n",
    "    info = yao_types[yao]\n",
    "    if info['style'] == 'solid':\n",
    "        ax1.add_patch(Rectangle((0.25, y), 0.5, 0.05, facecolor=info['color']))\n",
    "    else:\n",
    "        ax1.add_patch(Rectangle((0.25, y), 0.2, 0.05, facecolor=info['color']))\n",
    "        ax1.add_patch(Rectangle((0.55, y), 0.2, 0.05, facecolor=info['color']))\n",
    "\n",
    "for i, yao in enumerate(biangua):\n",
    "    y = start_y + i * y_step\n",
    "    info = yao_types[yao]\n",
    "    if info['style'] == 'solid':\n",
    "        ax2.add_patch(Rectangle((0.25, y), 0.5, 0.05, facecolor=info['color']))\n",
    "    else:\n",
    "        ax2.add_patch(Rectangle((0.25, y), 0.2, 0.05, facecolor=info['color']))\n",
    "        ax2.add_patch(Rectangle((0.55, y), 0.2, 0.05, facecolor=info['color']))\n",
    "\n",
    "plt.tight_layout()\n",
    "plt.savefig('hexagrams.png', dpi=300)\n",
    "plt.show()     \n",
    "print(\"解卦直接截图或复制问AI\")"
   ]
  },
  {
   "cell_type": "code",
   "execution_count": null,
   "id": "6e7c8893-6b70-47af-a34a-60b766235ee7",
   "metadata": {},
   "outputs": [],
   "source": []
  }
 ],
 "metadata": {
  "kernelspec": {
   "display_name": "Python [conda env:base] *",
   "language": "python",
   "name": "conda-base-py"
  },
  "language_info": {
   "codemirror_mode": {
    "name": "ipython",
    "version": 3
   },
   "file_extension": ".py",
   "mimetype": "text/x-python",
   "name": "python",
   "nbconvert_exporter": "python",
   "pygments_lexer": "ipython3",
   "version": "3.12.3"
  }
 },
 "nbformat": 4,
 "nbformat_minor": 5
}
